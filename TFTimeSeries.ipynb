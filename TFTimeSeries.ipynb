{
  "nbformat": 4,
  "nbformat_minor": 0,
  "metadata": {
    "colab": {
      "name": "TFTimeSeries.ipynb",
      "provenance": [],
      "collapsed_sections": [],
      "include_colab_link": true
    },
    "kernelspec": {
      "name": "python3",
      "display_name": "Python 3"
    }
  },
  "cells": [
    {
      "cell_type": "markdown",
      "metadata": {
        "id": "view-in-github",
        "colab_type": "text"
      },
      "source": [
        "<a href=\"https://colab.research.google.com/github/mmistroni/jupyter/blob/master/TFTimeSeries.ipynb\" target=\"_parent\"><img src=\"https://colab.research.google.com/assets/colab-badge.svg\" alt=\"Open In Colab\"/></a>"
      ]
    },
    {
      "cell_type": "code",
      "metadata": {
        "id": "7j1C2K-pSCvo",
        "colab_type": "code",
        "colab": {}
      },
      "source": [
        "!pip install pandas_datareader\n",
        "!pip install tensorflow==1.15"
      ],
      "execution_count": null,
      "outputs": []
    },
    {
      "cell_type": "code",
      "metadata": {
        "id": "03Y2LC7ZQtOu",
        "colab_type": "code",
        "colab": {}
      },
      "source": [
        "from __future__ import absolute_import\n",
        "from __future__ import division\n",
        "from __future__ import print_function\n",
        "import tensorflow as tf\n",
        "from datetime import date\n",
        "import numpy as np\n",
        "from sklearn.model_selection import train_test_split\n",
        "from tensorflow.contrib.learn import ModeKeys\n",
        "import tensorflow.contrib.rnn as rnn\n",
        "from datetime import datetime, date, timedelta\n",
        "\n",
        "\n",
        "\n"
      ],
      "execution_count": null,
      "outputs": []
    },
    {
      "cell_type": "code",
      "metadata": {
        "id": "VwssekxIMm40",
        "colab_type": "code",
        "colab": {}
      },
      "source": [
        "tf.__version__"
      ],
      "execution_count": null,
      "outputs": []
    },
    {
      "cell_type": "code",
      "metadata": {
        "id": "l-Irklu5ENWm",
        "colab_type": "code",
        "colab": {}
      },
      "source": [
        "\n",
        "from pandas.tseries.offsets import BDay\n",
        "TIMESERIES_COL = 'rawdata'\n",
        "N_OUTPUTS = 5 # in each sequence, 1-14 are features, and 14-20 is label \n",
        "SEQ_LEN = 20\n",
        "DEFAULTS = 0.0\n",
        "LSTM_SIZE = 5 # number of hidden layers in each of the LSTM cells\n",
        "N_INPUTS = SEQ_LEN - N_OUTPUTS\n",
        "BATCH_SIZE = 20\n",
        "ROOT_DIR = '/home/mmistroni/tf_logs/rnn-run-{}'\n",
        "\n",
        "\n",
        "def get_prices(startdate, enddate, symbol):\n",
        "  import pandas_datareader as pdr\n",
        "  from datetime import date, timedelta\n",
        "  print ('--Start:{%s}, end:{%s}', startdate, enddate)\n",
        "  \n",
        "  stock_data = pdr.get_data_yahoo(symbol, startdate, enddate)[['Close']].pct_change().fillna(0)\n",
        "  adjClose = np.stack(stock_data['Close'])\n",
        "  return adjClose\n",
        "  \n",
        "def create_training_data2(inputData):\n",
        "  print ('Len of input dat ais {}', len(inputData))\n",
        "  return [np.array(inputData[i * SEQ_LEN: (i + 1) * SEQ_LEN]) \n",
        "       for i in range(len(inputData) // SEQ_LEN)]\n",
        "\n",
        "def create_training_data(inputData):\n",
        "  print ('AdjClose is of shape {}', inputData.shape)\n",
        "  return inputData.T.reshape(-1,SEQ_LEN)\n",
        "  \n",
        "  \n",
        "def create_time_series(end_date, numDays=360, symbol='XOM'):\n",
        "  print(\"==== CREATING TIMESERIES GOING BACK 280 DAYS FROM  {}\".format(end_date))\n",
        "  endDate = end_date # training from 20 days ago\n",
        "  startDate = endDate - BDay(numDays)\n",
        "  prices =  get_prices(startDate, endDate, symbol=symbol)\n",
        "  return create_training_data2(prices)\n",
        "  \n"
      ],
      "execution_count": null,
      "outputs": []
    },
    {
      "cell_type": "code",
      "metadata": {
        "id": "nj3fpQ0FOJlH",
        "colab_type": "code",
        "colab": {}
      },
      "source": [
        "from datetime import date\n",
        "import pandas_datareader as pdr\n",
        "for ticker in ['KR','WST','AMGN','FAST','DXCM','DOCU','GMAB']: \n",
        "  print(pdr.get_data_yahoo(ticker, date(2020,8,3), date.today())[['Close']])"
      ],
      "execution_count": null,
      "outputs": []
    },
    {
      "cell_type": "code",
      "metadata": {
        "colab_type": "code",
        "id": "whdGmgDC4Fr2",
        "colab": {}
      },
      "source": [
        "\n",
        "def create_train_and_test(end_date, symbol='XOM',extra_prices=None):\n",
        "  all_timeseries =  create_time_series(end_date, symbol=symbol) #[create_time_series() for i in range(0, SEQ_LEN * 4)]\n",
        "  if extra_prices:\n",
        "    print('ADDING extra prices with size:{}'.format(extra_prices))\n",
        "    all_timeseries = all_timeseries + extra_prices\n",
        "  print(\"Timeseries is of type:{} and has length:{}\".format(type(all_timeseries), len(all_timeseries)))\n",
        "  all_data = np.stack(all_timeseries)\n",
        "  print('All data shape is{0} and type {1}'.format(all_data.shape,type(all_data)))\n",
        "  X, y = all_data[...,0:-N_OUTPUTS], all_data[...,-N_OUTPUTS:]\n",
        "  print ('X is fo type {0}, y  of type {1}'.format(type(X[0][0]), type(y)))\n",
        "  print ('X.shape is {0}, y shap is {1}'.format(X.shape, y.shape))\n",
        "  X_train, X_test, y_train, y_test = train_test_split(X,\n",
        "                                                      y,\n",
        "                                                      test_size=0.1,\n",
        "                                                      random_state=1)\n",
        "  return X_train, y_train, X_test, y_test\n",
        "\n"
      ],
      "execution_count": null,
      "outputs": []
    },
    {
      "cell_type": "code",
      "metadata": {
        "id": "JRRxa0F87wog",
        "colab_type": "code",
        "colab": {}
      },
      "source": [
        "create_train_and_test(date.today())"
      ],
      "execution_count": null,
      "outputs": []
    },
    {
      "cell_type": "markdown",
      "metadata": {
        "id": "cennoUsA4jdI",
        "colab_type": "text"
      },
      "source": [
        "<h3> Creating RNN Model </h3>\n"
      ]
    },
    {
      "cell_type": "code",
      "metadata": {
        "id": "PVMHd20H36gP",
        "colab_type": "code",
        "colab": {}
      },
      "source": [
        "\n",
        "# create the inference model\n",
        "def simple_rnn(features, labels, mode, params):\n",
        "  # 0. Reformat input shape to become a sequence\n",
        "  print ('IN Features are:{0}'.format(features))\n",
        "  x = tf.split(features[TIMESERIES_COL], N_INPUTS, 1)\n",
        "  #print 'x={}'.format(x)\n",
        "    \n",
        "  # 1. configure the RNN\n",
        "  lstm_cell = rnn.BasicLSTMCell(LSTM_SIZE, forget_bias=1.0)\n",
        "  outputs, _ = tf.nn.static_rnn(lstm_cell, x, dtype=tf.float32)\n",
        "\n",
        "  # slice to keep only the last cell of the RNN\n",
        "  outputs = outputs[-1]\n",
        "  #print 'last outputs={}'.format(outputs)\n",
        "  \n",
        "  # output is result of linear activation of last layer of RNN\n",
        "  weight = tf.Variable(tf.random_normal([LSTM_SIZE, N_OUTPUTS]))\n",
        "  bias = tf.Variable(tf.random_normal([N_OUTPUTS]))\n",
        "  predictions = tf.matmul(outputs, weight) + bias\n",
        "    \n",
        "  # 2. loss function, training/eval ops\n",
        "  if mode == ModeKeys.TRAIN or mode == ModeKeys.EVAL:\n",
        "     loss = tf.losses.mean_squared_error(labels, predictions)\n",
        "     train_op = tf.contrib.layers.optimize_loss(\n",
        "         loss=loss,\n",
        "         global_step=tf.train.get_global_step(),\n",
        "         learning_rate=0.01,\n",
        "         optimizer=\"SGD\") # SGD\n",
        "     eval_metric_ops = {\n",
        "      \"rmse\": tf.metrics.root_mean_squared_error(labels, predictions)\n",
        "     }\n",
        "  else:\n",
        "     loss = None\n",
        "     train_op = None\n",
        "     eval_metric_ops = None\n",
        "  \n",
        "  # 3. Create predictions\n",
        "  predictions_dict = {\"predicted\": predictions}\n",
        "\n",
        "  # 4. Create export outputs  \n",
        "  export_outputs = {\"predicted\": tf.estimator.export.PredictOutput(predictions)}\n",
        "\n",
        "  # 5. return ModelFnOps\n",
        "  return tf.estimator.EstimatorSpec(\n",
        "      mode=mode,\n",
        "      predictions=predictions_dict,\n",
        "      loss=loss,\n",
        "      train_op=train_op,\n",
        "      eval_metric_ops=eval_metric_ops,\n",
        "      export_outputs=export_outputs)\n",
        "\n"
      ],
      "execution_count": null,
      "outputs": []
    },
    {
      "cell_type": "markdown",
      "metadata": {
        "id": "6x2OM2cG4qpj",
        "colab_type": "text"
      },
      "source": [
        "<h3> Creating Serving Function , Train Function and Test Function </h3>"
      ]
    },
    {
      "cell_type": "code",
      "metadata": {
        "id": "ka_U5ZvZ4W6W",
        "colab_type": "code",
        "colab": {}
      },
      "source": [
        "def serving_input_receiver_fn():\n",
        "  feature_placeholders = {\n",
        "    TIMESERIES_COL: tf.placeholder(tf.float32, [None, N_INPUTS])\n",
        "  }\n",
        "\n",
        "  features = {\n",
        "    key: tf.expand_dims(tensor, -1)\n",
        "    for key, tensor in feature_placeholders.items()\n",
        "  }\n",
        "\n",
        "  features[TIMESERIES_COL] = tf.squeeze(features[TIMESERIES_COL], axis=[2], name='timeseries')\n",
        "  \n",
        "  print('serving: features={}'.format(features[TIMESERIES_COL]))\n",
        "\n",
        "  return tf.estimator.export.ServingInputReceiver(features, feature_placeholders)\n",
        "\n",
        "\n",
        "\n",
        "# Creating a TrainFn and a TestFn\n",
        "def _train_fn(X, y, batch_size):\n",
        "    \n",
        "    def _train():\n",
        "        \"\"\"An input function for training\"\"\"\n",
        "        # Convert the inputs to a Dataset.\n",
        "        # TODO need to be refactored according to https://medium.com/google-cloud/how-to-do-time-series-prediction-using-rnns-and-tensorflow-and-cloud-ml-engine-2ad2eeb189e8\n",
        "        # this is not good.\n",
        "        X_32 = tf.cast(X, tf.float32)\n",
        "        y_32 = tf.cast(y, tf.float32)\n",
        "        inputs = tf.concat(X_32, axis=1)\n",
        "        label = tf.concat(y_32, axis=1)\n",
        "        features, labels = {TIMESERIES_COL: inputs}, label\n",
        "        \n",
        "        return features, labels\n",
        "        dataset = tf.data.Dataset.from_tensor_slices(features, labels)\n",
        "        # Shuffle, repeat, and batch the examples.\n",
        "        dataset = dataset.repeat(None).batch(batch_size)\n",
        "        # This will now return batches of features, label\n",
        "        return dataset.make_one_shot_iterator().get_next()\n",
        "    return _train\n",
        "\n",
        "def _test_fn(X, y, batch_size):\n",
        "    def _test():\n",
        "        \"\"\"An input function for training\"\"\"\n",
        "        # Convert the inputs to a Dataset.\n",
        "        X_32 = tf.cast(X, tf.float32)\n",
        "        y_32 = tf.cast(y, tf.float32)\n",
        "        inputs = tf.concat(X_32, axis=1)\n",
        "        label = tf.concat(y_32, axis=1)\n",
        "        \n",
        "        features, labels = {TIMESERIES_COL: inputs}, label\n",
        "        \n",
        "        return features, labels\n",
        "        \n",
        "        dataset = tf.data.Dataset.from_tensor_slices(features, labels)\n",
        "        # Shuffle, repeat, and batch the examples.\n",
        "        dataset = dataset.repeat(1).batch(batch_size)\n",
        "        # This will now return batches of features, label\n",
        "        return dataset.make_one_shot_iterator().get_next()\n",
        "    return _test  \n",
        "  \n",
        "\n",
        " \n"
      ],
      "execution_count": null,
      "outputs": []
    },
    {
      "cell_type": "markdown",
      "metadata": {
        "id": "ovYAxd_W4zc7",
        "colab_type": "text"
      },
      "source": [
        "<h3> Creating Experiment Function and running model </h3>"
      ]
    },
    {
      "cell_type": "code",
      "metadata": {
        "id": "CByxDadW49FB",
        "colab_type": "code",
        "colab": {}
      },
      "source": [
        "def _predict_fn(X) :\n",
        "    def _predict():\n",
        "        \"\"\"An input function for training\"\"\"\n",
        "        # Convert the inputs to a Dataset.\n",
        "        X_32 = tf.cast(X, tf.float32)\n",
        "        inputs = tf.concat(X_32, axis=1)\n",
        "        features = {TIMESERIES_COL: inputs}\n",
        "        return features\n",
        "    return _predict\n",
        "\n",
        "\n",
        "\n",
        "\n",
        "def experiment_fn(output_dir, X, y, x_tst, y_tst):\n",
        "    # run experiment\n",
        "    train_spec = tf.estimator.TrainSpec(\n",
        "          input_fn=_train_fn(X, y, BATCH_SIZE), max_steps=1500)\n",
        "    exporter = tf.estimator.FinalExporter('timeseries',\n",
        "    serving_input_receiver_fn)\n",
        "    eval_spec = tf.estimator.EvalSpec(\n",
        "            input_fn=_test_fn(x_tst, y_tst, BATCH_SIZE),\n",
        "            exporters=[exporter])\n",
        "    \n",
        "    estimator = tf.estimator.Estimator(model_fn=simple_rnn, model_dir=output_dir)\n",
        "\n",
        "    tf.estimator.train_and_evaluate(estimator, train_spec, eval_spec)\n",
        "    return estimator\n",
        "\n",
        "\n",
        "def run_model(end_date, symbol='XOM', extra_prices=None):  \n",
        "  print('Attempting to generate learning model for {}, using end_date={}'.format(symbol, end_date))\n",
        "  tf.logging.set_verbosity(tf.logging.ERROR)    \n",
        "  output_dir = ROOT_DIR.format(datetime.utcnow().strftime('%Y%m%d%H%M%S'))  \n",
        "  X_train, y_train, X_test, y_test = create_train_and_test(end_date, symbol=symbol, extra_prices=extra_prices)\n",
        "  estimator = experiment_fn(output_dir, X_train, y_train, X_test, y_test)\n",
        "  print('Xtrain is:{} and of shape:{}', type(X_train), X_train.shape)\n",
        "  return estimator\n"
      ],
      "execution_count": null,
      "outputs": []
    },
    {
      "cell_type": "markdown",
      "metadata": {
        "id": "kMzyPr_u4_At",
        "colab_type": "text"
      },
      "source": [
        "<h3> SETTING STARTDATE, ENDDATE AND TICKER </h3>"
      ]
    },
    {
      "cell_type": "code",
      "metadata": {
        "id": "n3zgbsMrCbgP",
        "colab_type": "code",
        "colab": {}
      },
      "source": [
        "END_DATE= date.today()\n",
        "START_DATE = END_DATE - BDay(N_INPUTS) # This will be used for predicting future prices. end date will be 15 days ago, start_date 280 days earlier\n"
      ],
      "execution_count": null,
      "outputs": []
    },
    {
      "cell_type": "markdown",
      "metadata": {
        "id": "augTdn3oqsK8",
        "colab_type": "text"
      },
      "source": [
        "<h3> Now running model </h3>"
      ]
    },
    {
      "cell_type": "code",
      "metadata": {
        "id": "LEMTgvKICpoc",
        "colab_type": "code",
        "colab": {}
      },
      "source": [
        "def train_estimator(symbol, extra_prices=None):\n",
        "  print('===================== CONFIGURATION FOR {}======================'.format(symbol))\n",
        "  print('STARTDATE={}'.format(START_DATE))\n",
        "  print('ENDDATE={}'.format(END_DATE))\n",
        "  print('SYMBOL={}'.format(symbol))\n",
        "  print('=== TRAINING MODEL ON PAST 280 DAYS from {}'.format(START_DATE))\n",
        "  estimator = run_model(START_DATE, symbol=symbol, extra_prices=extra_prices)\n",
        "  return estimator\n"
      ],
      "execution_count": null,
      "outputs": []
    },
    {
      "cell_type": "markdown",
      "metadata": {
        "id": "8bSKL1hdpyVD",
        "colab_type": "text"
      },
      "source": [
        "<h3> Now, after training,  Let's do some predictions for future </h3>"
      ]
    },
    {
      "cell_type": "code",
      "metadata": {
        "id": "uQkN-vTbp6E9",
        "colab_type": "code",
        "colab": {}
      },
      "source": [
        "from datetime import date\n",
        "from pprint import pprint\n",
        "# going back to last month\n",
        "tf.logging.set_verbosity(tf.logging.ERROR)    \n",
        "\n",
        "def get_last_20_days(symbol):\n",
        "\n",
        "  def get_prices2(startdate=None, enddate=None, symbol=''):\n",
        "    import pandas_datareader as pdr\n",
        "    from datetime import date, timedelta\n",
        "    print ('--Start:{%s}, end:{%s}', startdate, enddate)\n",
        "\n",
        "    if not startdate and not enddate:\n",
        "      last_check = date.today() - BDay(SEQ_LEN * 2) \n",
        "      enddate = last_check\n",
        "      startdate = last_check - BDay(122)#timedelta(days=120)\n",
        "    return pdr.get_data_yahoo(symbol, startdate, enddate)[['Close']]\n",
        "\n",
        "\n",
        "  print('==== GETTING MOST RECENT PRICES for {}======'.format(symbol))\n",
        "  stock_data = get_prices2(START_DATE- BDay(1), END_DATE, symbol=symbol)\n",
        "  percentage_changes = stock_data.pct_change().fillna(0)\n",
        "  #First Price\n",
        "  first_price = stock_data.values[0]\n",
        "  print('==============First ever price of the series of shape {} is {}'.format(stock_data.shape, first_price ))\n",
        "  #print(stock_data.head(30))\n",
        "  #print('=========== PERCENTAGE CHANGES ===========')\n",
        "  #print(percentage_changes.head(30))\n",
        "  prices = np.stack(percentage_changes['Close'])\n",
        "  #prices = np.stack(stock_data['Close'])\n",
        "  print('===== PRICES ARE===')\n",
        "  pprint(prices)\n",
        "  return prices, first_price\n",
        "\n",
        "\n"
      ],
      "execution_count": null,
      "outputs": []
    },
    {
      "cell_type": "markdown",
      "metadata": {
        "id": "gQiIzVoFEa6u",
        "colab_type": "text"
      },
      "source": [
        "<h3> Now recalculating price percentages to predict </h3>"
      ]
    },
    {
      "cell_type": "code",
      "metadata": {
        "id": "RzaOht5kERuR",
        "colab_type": "code",
        "colab": {}
      },
      "source": [
        "def make_predictions(prices, estimator, iterations=8):\n",
        "\n",
        "  print ('Prices is of shape:{}', prices.shape)\n",
        "  prices = prices.reshape(-1,N_INPUTS) if prices.shape[0] % 15 == 0 else prices[-15:].reshape(-1,N_INPUTS)\n",
        "  print ('Reshaped Prices is of shape:{}', prices.shape) \n",
        "  print ('-------- PREDICTING -------')\n",
        "  print (type(prices))\n",
        "  acc = []\n",
        "  acc += prices[0].tolist()\n",
        "  for i in range(0, iterations):\n",
        "    print('Iteration:{}.Accumulator length:{}'.format(i, len(acc)))\n",
        "    # Given last 15 days, predict the next 5. now we  have all data\n",
        "    candidate = np.array(acc[-15:]).reshape(-1,15)  # this is the Train #\n",
        "    \n",
        "    pred = estimator.predict(input_fn = _predict_fn(candidate))\n",
        "    item = next(pred)\n",
        "    vals = item['predicted'] # this is the predicted\n",
        "    \n",
        "    # First iteration has last 15 prices, then we predict the next 5. Now accumulator has 20\n",
        "    # Second iteration,\n",
        "    \"\"\"\n",
        "    Iteration:0.Accumulator length:15, then we predict 5/ so now we have test_data + 20. \n",
        "    Training is done in batches of 20. So we can only retrain when we have at least 15 available to send to the estimator\n",
        "    That means that we can only do it when we have 35. So we can only retrain periodically when we have enough samples. \n",
        "    That means when len(acc) % 35 == 0. so we can take the first 20 to train, and use the next 15 to predict\n",
        "    Iteration:1.Accumulator length:20\n",
        "    Iteration:2.Accumulator length:25\n",
        "    \"\"\"\n",
        "    # So we can only retrain when we have \n",
        "    \n",
        "    # at Iteation 2, we take the last 15. But w\n",
        "    # Next 5 predicted. So now we have 15 -test- + 5 predicted. \n",
        "    # Then, as test data, pick the previous 15 and then predict the next one\n",
        "\n",
        "    \"\"\"\n",
        "    ATTEMPT TO RETRAIN THE MODEL..\n",
        "      print(\"====== Now adding prediction to current train....\")\n",
        "      print(\"Xtrain of type:{}, candidate of type:{}\".format(type(X_train), type(candidate)))\n",
        "      print(\"SHapes.Train:{}, Candidate:{}\".format(X_train.shape, candidate.shape))\n",
        "      \n",
        "      # train again\n",
        "      # need to think this.\n",
        "      #estimator = train_estimator(symbol, acc[-15:] )\n",
        "    \n",
        "      \n",
        "      #X_train = np.vstack([X_train , candidate])\n",
        "      #y_train = np.vstack([y_train , vals])\n",
        "      # So Now we have to \n",
        "      # 1. retrain the model\n",
        "      # 2. get the most recent 15 days to \n",
        "\n",
        "    \"\"\"\n",
        "    print ('Round {} Prediction: on {}={}'.format(i, candidate, vals))\n",
        "    print ('{}={}'.format(type(vals), vals.tolist()))\n",
        "    acc += vals.tolist()\n",
        "  return acc\n",
        "\n"
      ],
      "execution_count": null,
      "outputs": []
    },
    {
      "cell_type": "markdown",
      "metadata": {
        "id": "Zxm7H9jzsEGL",
        "colab_type": "text"
      },
      "source": [
        "<h3> Now visualizing price predictions against date time </h3>"
      ]
    },
    {
      "cell_type": "code",
      "metadata": {
        "id": "e8SxyWVIxS3L",
        "colab_type": "code",
        "colab": {}
      },
      "source": [
        "def calculate_list_of_prices(idx, first_price, zipped, accumulator):\n",
        "  if idx ==0:\n",
        "    ts = zipped[idx][1]\n",
        "    change = zipped[idx][0]\n",
        "    price = first_price * (1 + change)\n",
        "    accumulator.append((ts, change, price))\n",
        "    return calculate_list_of_prices(idx + 1, first_price, zipped, accumulator)\n",
        "  elif idx < len(zipped):\n",
        "    ts = zipped[idx][1]\n",
        "    _, _, last_price = accumulator[-1]\n",
        "    change =zipped[idx][0]\n",
        "    accumulator.append((ts, change,last_price * (1 + change))) \n",
        "    return calculate_list_of_prices(idx + 1, first_price, zipped, accumulator)\n",
        "  else:\n",
        "    return accumulator\n",
        "  \n",
        "\n",
        "def generate_results(acc, first_price):\n",
        "  print('-------------- END OF STORY.Computing increase from {}'.format(first_price))\n",
        "  from pprint import pprint\n",
        "  future_days = len(acc) - 15\n",
        "  pprint('Accumlator has length:{}'.format(len(acc)))\n",
        "  pprint('We have prediction for the next:{} days'.format(future_days))\n",
        "  print(\"calculating business days to zip \")\n",
        "  # we got start date, todays - 15\n",
        "  # end date is  today + \n",
        "  dts = [START_DATE + BDay(offset) for offset in range(0, len(acc))]\n",
        "  print('Start Date:{}={}'.format(dts[0], START_DATE))\n",
        "  print('End date:{}'.format(dts[-1]))\n",
        "  zipped = [tpl for tpl in zip(acc, dts)]\n",
        "       \n",
        "  print('===== FULL PREDICTIONS======')\n",
        "  #print(zipped)\n",
        "  from functools import reduce\n",
        "  final_predictions  = acc\n",
        "  #pprint(final_predictions)\n",
        "  # Then find the end price by using reduce and entering the first price \n",
        "  res = reduce(lambda acc,x: acc * (1+x) ,  final_predictions, first_price)\n",
        "  print('Final Price for series{} = {}'.format(zipped[-1], res))\n",
        "  \n",
        "  final_prices = calculate_list_of_prices(0, first_price, zipped, [])\n",
        "  print('Final list of prices...')\n",
        "  pprint(final_prices)\n",
        "  return res, final_prices[-3:]\n",
        "\n",
        "ALL_SYMBOLS = ['DXCM', 'DOCU', 'GMAB']\n",
        "\n",
        "results = []\n",
        "for symbol in ALL_SYMBOLS:\n",
        "  print('Running predictions for:{}'.format(symbol))\n",
        "  \n",
        "  estimator = train_estimator(symbol)\n",
        "  latest_prices, first_price = get_last_20_days(symbol)\n",
        "  # Reshaping dat3\n",
        "  acc = make_predictions(latest_prices, estimator, iterations=10)\n",
        "  res, final_prices = generate_results(acc, first_price)\n",
        "  #pprint(final_prices)\n",
        "\n",
        "  results.append((symbol, res[0]))\n",
        "from pprint import pprint\n",
        "pprint(results)\n",
        "\n"
      ],
      "execution_count": null,
      "outputs": []
    },
    {
      "cell_type": "code",
      "metadata": {
        "id": "p8vLDVntz3vj",
        "colab_type": "code",
        "colab": {}
      },
      "source": [
        "import pandas as pd\n",
        "pd.DataFrame(results, columns=['Symbol', 'MidSeptember Price'])"
      ],
      "execution_count": null,
      "outputs": []
    },
    {
      "cell_type": "code",
      "metadata": {
        "id": "5ZsJNAp03yFc",
        "colab_type": "code",
        "colab": {}
      },
      "source": [
        "import pandas as pd\n",
        "pd.DataFrame(results, columns=['Symbol', 'MidNovember Price'])"
      ],
      "execution_count": null,
      "outputs": []
    },
    {
      "cell_type": "code",
      "metadata": {
        "id": "h2ouepeT_28w",
        "colab_type": "code",
        "colab": {}
      },
      "source": [
        "\n"
      ],
      "execution_count": null,
      "outputs": []
    },
    {
      "cell_type": "code",
      "metadata": {
        "id": "O7AjEH52vS-6",
        "colab_type": "code",
        "colab": {}
      },
      "source": [
        ""
      ],
      "execution_count": null,
      "outputs": []
    }
  ]
}