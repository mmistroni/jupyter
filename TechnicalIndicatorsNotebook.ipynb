{
  "nbformat": 4,
  "nbformat_minor": 0,
  "metadata": {
    "colab": {
      "name": "TechnicalIndicatorsNotebook.ipynb",
      "provenance": [],
      "collapsed_sections": [],
      "authorship_tag": "ABX9TyMZwGZgoZUeB2PTfHGS8WIi",
      "include_colab_link": true
    },
    "kernelspec": {
      "name": "python3",
      "display_name": "Python 3"
    }
  },
  "cells": [
    {
      "cell_type": "markdown",
      "metadata": {
        "id": "view-in-github",
        "colab_type": "text"
      },
      "source": [
        "<a href=\"https://colab.research.google.com/github/mmistroni/jupyter/blob/master/TechnicalIndicatorsNotebook.ipynb\" target=\"_parent\"><img src=\"https://colab.research.google.com/assets/colab-badge.svg\" alt=\"Open In Colab\"/></a>"
      ]
    },
    {
      "cell_type": "code",
      "metadata": {
        "id": "z0kQRJNeDOrL",
        "colab_type": "code",
        "colab": {}
      },
      "source": [
        "!pip install pandas-datareader\n",
        "import requests\n",
        "import pandas as pd\n",
        "from datetime import date\n",
        "import logging\n",
        "from pandas.tseries.offsets import BDay\n",
        "import requests\n",
        "import numpy as np\n",
        "import urllib\n",
        "import json\n",
        "import pandas as pd\n",
        "from pandas.tseries.offsets import BDay\n",
        "import pandas_datareader.data as dr\n",
        "import numpy as np\n",
        "from datetime import datetime, date\n",
        "\n"
      ],
      "execution_count": null,
      "outputs": []
    },
    {
      "cell_type": "code",
      "metadata": {
        "id": "7AuZu5UaWDtq",
        "colab_type": "code",
        "colab": {}
      },
      "source": [
        "!wget https://launchpad.net/~mario-mariomedina/+archive/ubuntu/talib/+files/libta-lib0_0.4.0-oneiric1_amd64.deb -qO libta.deb\n",
        "!wget https://launchpad.net/~mario-mariomedina/+archive/ubuntu/talib/+files/ta-lib0-dev_0.4.0-oneiric1_amd64.deb -qO ta.deb\n",
        "!dpkg -i libta.deb ta.deb\n",
        "!pip install ta-lib\n",
        "import talib"
      ],
      "execution_count": null,
      "outputs": []
    },
    {
      "cell_type": "markdown",
      "metadata": {
        "id": "4yNeVvH8mpRM",
        "colab_type": "text"
      },
      "source": [
        "<h3> Useful functions to be translated to GCP </h3>"
      ]
    },
    {
      "cell_type": "code",
      "metadata": {
        "id": "Pn_u3mCWzVnn",
        "colab_type": "code",
        "colab": {}
      },
      "source": [
        "from google.colab import auth\n",
        "auth.authenticate_user()\n",
        "\n",
        "\n"
      ],
      "execution_count": null,
      "outputs": []
    },
    {
      "cell_type": "code",
      "metadata": {
        "id": "0y1ZyUvo0u30",
        "colab_type": "code",
        "colab": {}
      },
      "source": [
        "import pandas as pd\n",
        "!mkdir -p data\n",
        "!gsutil cp gs://datascience-bucket-mm/All_Indicators.txt data\n",
        "!gsutil cp gs://datascience-bucket-mm/all_sectors.csv data\n",
        "!ls data\n",
        "\n",
        "!pwd"
      ],
      "execution_count": null,
      "outputs": []
    },
    {
      "cell_type": "code",
      "metadata": {
        "id": "PKZBMvRJQ-iU",
        "colab_type": "code",
        "colab": {}
      },
      "source": [
        "sct = pd.read_csv('data/all_sectors.csv')\n",
        "sct.head(5)\n",
        "\n",
        "sct['Sector'].unique()"
      ],
      "execution_count": null,
      "outputs": []
    },
    {
      "cell_type": "markdown",
      "metadata": {
        "id": "gj6sk7KaVLDn",
        "colab_type": "text"
      },
      "source": [
        "<h3> Attempting to predict prices using Technica indicators </h3>"
      ]
    },
    {
      "cell_type": "code",
      "metadata": {
        "id": "1VbM7aeuHXFR",
        "colab_type": "code",
        "colab": {}
      },
      "source": [
        "# Getting Tickers..\n",
        "\n",
        "!gsutil cp gs://datascience-bucket-mm/all_sectors.csv data\n",
        "sct = pd.read_csv('data/all_sectors.csv')\n",
        "sct.rename({'Unnamed: 0' : 'ticker', 'Sector':'sector'}, axis=1, inplace=True)\n",
        "sct.head(2)\n",
        "reit_tickers = sct[sct['sector'] == 'Real Estate']\n",
        "tickers = reit_tickers['ticker'].values\n",
        "tickers\n"
      ],
      "execution_count": null,
      "outputs": []
    },
    {
      "cell_type": "code",
      "metadata": {
        "id": "H4nSDj_nV6UZ",
        "colab_type": "code",
        "colab": {}
      },
      "source": [
        "def get_prices(ticker, start_date, end_date):\n",
        "  try:\n",
        "    print('Fetching {} from {} to {}'.format(ticker, start_date, end_date))\n",
        "    return dr.get_data_yahoo(ticker, start_date, end_date)\n",
        "  except Exception as e:\n",
        "    print('could not fetch {}'.format(ticker))"
      ],
      "execution_count": null,
      "outputs": []
    },
    {
      "cell_type": "markdown",
      "metadata": {
        "id": "Bp5ESKZ3X0rv",
        "colab_type": "text"
      },
      "source": [
        "<h3> Simple Moving Avreage </h3>"
      ]
    },
    {
      "cell_type": "code",
      "metadata": {
        "id": "6GSJpJijR5-_",
        "colab_type": "code",
        "colab": {}
      },
      "source": [
        "def map_to_dict(input_df):\n",
        "  dd = input_df.to_dict()\n",
        "  return dict(    (k.replace(' ', ''), [vl for vl in v.values()][0]) for k, v in dd.items())\n",
        "\n",
        "start = get_prices('AMZN', date.today(), date.today())\n",
        "map_to_dict(start)\n",
        "#start.to_dict()"
      ],
      "execution_count": null,
      "outputs": []
    },
    {
      "cell_type": "code",
      "metadata": {
        "id": "h_4ZfbDBWQq8",
        "colab_type": "code",
        "colab": {}
      },
      "source": [
        "def add_moving_averages(prices):\n",
        "  print('Adding moving averages....')\n",
        "  prices['SMA_10'] = (sum(prices.close, 10))/10\n",
        "  prices['SMA_20'] = (sum(prices.close, 20))/20\n",
        "  prices['SMA_50'] = (sum(prices.close, 50))/50\n",
        "  prices['SMA_100'] = (sum(prices.close, 100))/100\n",
        "  prices['SMA_200'] = (sum(prices.close, 200))/200\n",
        "  return prices\n",
        "\n",
        "def add_emas(prices):\n",
        "  print('Adding EMA...')\n",
        "  prices['ema_10'] = prices.close.ewm(span=10).mean().fillna(0.0)\n",
        "  prices['ema_20'] = prices.close.ewm(span=20).mean().fillna(0.0)\n",
        "  prices['ema_50'] = prices.close.ewm(span=50).mean().fillna(0.0)\n",
        "  prices['ema_100'] = prices.close.ewm(span=100).mean().fillna(0.0)\n",
        "  prices['ema_200'] = prices.close.ewm(span=200).mean().fillna(0.0)\n",
        "  return prices\n",
        "\n",
        "def add_true_range(prices, timeperiod=14):\n",
        "  print('Adding ATR for tperiod:{}'.format(timeperiod))\n",
        "  print(prices.dtypes)\n",
        "  try:\n",
        "    prices['ATR'] = talib.ATR(prices.high.values,\n",
        "                              prices.low.values,\n",
        "                              prices.close.values,\n",
        "                              timeperiod=timeperiod)\n",
        "  except Exception as e:\n",
        "    print('could not calculate atr')\n",
        "    prices['ATR'] = None\n",
        "  return prices\n",
        "\n",
        "def add_adx(prices, timeperiod=14):\n",
        "  print('Adding ADX for tperiod:{} and cols:{}'.format(timeperiod, prices.columns))\n",
        "\n",
        "  prices['ADX'] = talib.ADX(prices.high,prices.low, prices.close, timeperiod=timeperiod)\n",
        "  return prices\n",
        "\n",
        "def add_cci(prices):\n",
        "  print('Adding CCI ')\n",
        "\n",
        "  tp = (prices['high'] + prices['low'] + prices['close']) / 3\n",
        "  ma = tp / 20\n",
        "  md = (tp - ma) / 20\n",
        "  prices['CCI'] = (tp-ma) / (0.015 * md)\n",
        "  return prices\n",
        "\n",
        "def add_roc(prices, nshift=12):\n",
        "  print('Addig rate of change for {}'.format(nshift))\n",
        "  prices['ROC'] = ((prices['close'] - prices['close'].shift(nshift)) / \n",
        "                  (prices['close'].shift(nshift))) * 100\n",
        "  return prices\n",
        "\n",
        "def add_rsi(prices, timeperiod=14):\n",
        "  print('Adding RSI for tp:{}'.format(timeperiod))\n",
        "  try:\n",
        "    prices['rsi'] = talib.RSI(prices.close.values, timeperiod=timeperiod)\n",
        "  except Exception as  e:\n",
        "    print('couldd no tcalculate rsi')\n",
        "    prices['rsi'] = None\n",
        "  return prices\n",
        "\n",
        "def add_williams(prices, timeperiod=14):\n",
        "  print('Adding williams r for tp:{}'.format(timeperiod))\n",
        "  try:\n",
        "    prices['Williams % R'] = talib.WILLR(prices.high.values, prices.low.values,\n",
        "                                     prices.close.values, timeperiod)\n",
        "  except Exception :\n",
        "    print('could not calculate williams')\n",
        "    prices['Williams % R'] = None\n",
        "  return prices\n",
        "\n",
        "def add_stochastic_k(prices):\n",
        "  print('Adding Stochastic K ')\n",
        "  prices['SO%K'] = ((prices['close'] - prices['low']) / (prices['high'] - prices['low']))\n",
        "  return prices\n"
      ],
      "execution_count": null,
      "outputs": []
    },
    {
      "cell_type": "code",
      "metadata": {
        "id": "dm4LXvRpqWYc",
        "colab_type": "code",
        "colab": {}
      },
      "source": [
        "def add_technical_indocators(prices):\n",
        "  sma = add_moving_averages(prices)\n",
        "  emas = add_emas(sma)\n",
        "  print('before atx we have:{}'.format(emas.columns))\n",
        "  atr = add_true_range(emas)\n",
        "  \n",
        "  atx = add_adx(atr)\n",
        "  cci = add_cci(atx)\n",
        "  roc = add_roc(cci)\n",
        "  rsi = add_rsi(roc)\n",
        "  williams = add_williams(rsi)\n",
        "  stochastic = add_stochastic_k(williams)\n",
        "  print('Current Shape:{}'.format(prices.shape))\n",
        "  print('Dropping null')\n",
        "  not_null = prices.dropna()\n",
        "  print('Cleaned uup has :{}'.format(not_null.shape))\n",
        "  return not_null\n"
      ],
      "execution_count": null,
      "outputs": []
    },
    {
      "cell_type": "code",
      "metadata": {
        "id": "eQMfbUClZqbZ",
        "colab_type": "code",
        "colab": {}
      },
      "source": [
        "!gsutil cp gs://datascience-bucket-mm/all_sectors.csv data\n",
        "sct = pd.read_csv('data/all_sectors.csv')\n",
        "sct.rename({'Unnamed: 0' : 'ticker', 'Sector':'sector'}, axis=1, inplace=True)\n",
        "sct.head(2)\n"
      ],
      "execution_count": null,
      "outputs": []
    },
    {
      "cell_type": "markdown",
      "metadata": {
        "id": "1iUlbKlldNCn",
        "colab_type": "text"
      },
      "source": [
        "<h3> Fetching Prices for Sector (Moved to StockNews Notebook) </h3>\n",
        "\n",
        "1.   List item\n",
        "2.   List item\n",
        "\n"
      ]
    },
    {
      "cell_type": "code",
      "metadata": {
        "id": "R8wOqDc9onar",
        "colab_type": "code",
        "colab": {}
      },
      "source": [
        "def get_historical_prices_for_ticker(ticker):\n",
        "  print('Fetching data for:{}'.format(ticker))\n",
        "  end_date = date.today()\n",
        "  start_date = end_date - BDay(600)\n",
        "  return get_prices(ticker, start_date, end_date)\n"
      ],
      "execution_count": null,
      "outputs": []
    },
    {
      "cell_type": "code",
      "metadata": {
        "id": "zpTaYUTXZRW3",
        "colab_type": "code",
        "colab": {}
      },
      "source": [
        "#reit_tickers = sct[sct['sector'] == 'Real Estate']\n",
        "def create_historical_datasource(ticker):\n",
        "  print('Creating historical datasource for {}'.format(ticker))\n",
        "  tickers = [ticker]#'reit_tickers['ticker'].values\n",
        "  all_data= []\n",
        "  for t in tickers:\n",
        "    res = get_historical_prices_for_ticker(t)\n",
        "    if res is not None:\n",
        "      res['ticker'] = ticker\n",
        "      renamed = res.rename(columns = {'High':'high', 'Low':'low', 'Close':'close', 'Volume':'volume', 'Open':'open','Adj Close':'adj_close'}) \n",
        "      enhanced = add_technical_indocators(renamed)\n",
        "      all_data.append(enhanced)\n",
        "      all_reit = pd.concat( [p for p in all_data if p is not None], axis=0)#\n",
        "      all_reit['result'] = (all_reit['close'].shift(-20)) / all_reit['close']\n",
        "      return all_reit\n",
        "\n"
      ],
      "execution_count": null,
      "outputs": []
    },
    {
      "cell_type": "code",
      "metadata": {
        "id": "-xifMivoBWWi",
        "colab_type": "code",
        "colab": {}
      },
      "source": [
        "ccyclical = sct[sct['sector'] == 'Consumer Cyclical'].ticker.values\n",
        "full_dsets = [create_historical_datasource(t) for t in ccyclical]"
      ],
      "execution_count": null,
      "outputs": []
    },
    {
      "cell_type": "code",
      "metadata": {
        "id": "Eovjfb5ACFXP",
        "colab_type": "code",
        "colab": {}
      },
      "source": [
        "tech_cyclical = pd.concat([d for d in full_dsets if d  is not None])"
      ],
      "execution_count": null,
      "outputs": []
    },
    {
      "cell_type": "code",
      "metadata": {
        "id": "YSYSjeRzF5Lb",
        "colab_type": "code",
        "colab": {}
      },
      "source": [
        "tech_cyclical.shape"
      ],
      "execution_count": null,
      "outputs": []
    },
    {
      "cell_type": "code",
      "metadata": {
        "id": "JNUysUkmCNGc",
        "colab_type": "code",
        "colab": {}
      },
      "source": [
        "ds = tech_cyclical.to_csv('tech_cyclical.csv')\n",
        "!gsutil cp tech_cyclical.csv gs://mm_dataflow_bucket/inputs/"
      ],
      "execution_count": null,
      "outputs": []
    },
    {
      "cell_type": "markdown",
      "metadata": {
        "id": "O38u06a9K13E",
        "colab_type": "text"
      },
      "source": [
        "<h3> Restoring data </h3>"
      ]
    },
    {
      "cell_type": "code",
      "metadata": {
        "id": "SGtHzhspK5xy",
        "colab_type": "code",
        "colab": {}
      },
      "source": [
        "!gsutil cp  gs://mm_dataflow_bucket/inputs/tech_cyclical.csv .\n",
        "df = pd.read_csv('tech_cyclical.csv')"
      ],
      "execution_count": null,
      "outputs": []
    },
    {
      "cell_type": "code",
      "metadata": {
        "id": "McE4dQN3pwHy",
        "colab_type": "code",
        "colab": {}
      },
      "source": [
        "print('All:{}'.format(df.shape))\n",
        "print('No na:{}'.format(df.dropna().shape))\n",
        "print(df[df['result'] > 1.2].shape)\n",
        "df.columns"
      ],
      "execution_count": null,
      "outputs": []
    },
    {
      "cell_type": "code",
      "metadata": {
        "id": "fYtyynxJLF_E",
        "colab_type": "code",
        "colab": {}
      },
      "source": [
        "print('Current hsp:{}'.format(df.shape))\n",
        "print('Dropped:{}'.format(df.dropna().shape))\n",
        "samples = df.tail(10)\n",
        "st = df.tail(5)\n",
        "st['next']= st['Date'].shift(-2)"
      ],
      "execution_count": null,
      "outputs": []
    },
    {
      "cell_type": "code",
      "metadata": {
        "id": "ICEUoENLM62W",
        "colab_type": "code",
        "colab": {}
      },
      "source": [
        "st"
      ],
      "execution_count": null,
      "outputs": []
    },
    {
      "cell_type": "code",
      "metadata": {
        "id": "-VYvrr61ZRS_",
        "colab_type": "code",
        "colab": {}
      },
      "source": [
        "all_data = create_historical_datasource('^DJI')\n",
        "all_data['pred_price'] = all_data.close.shift(-7) > all_data.close * 1.05\n",
        "all_data.to_csv('dji_last_5_years_technical_indicators_7day_increase_5pcrise.csv')\n",
        "!gsutil cp dji_last_5_years_technical_indicators_7day_increase_5pcrise.csv gs://mm_dataflow_bucket/inputs/"
      ],
      "execution_count": null,
      "outputs": []
    },
    {
      "cell_type": "code",
      "metadata": {
        "id": "aWUq3FonLSUz",
        "colab_type": "code",
        "colab": {}
      },
      "source": [
        "all_data['pred_price'] = all_data.close.shift(-20) > all_data.close * 1.05\n",
        "all_data.to_csv('dji_last_5_years_technical_indicators_20day_increase_5pcrise.csv')\n",
        "!gsutil cp dji_last_5_years_technical_indicators_20day_increase_5pcrise.csv gs://mm_dataflow_bucket/inputs/"
      ],
      "execution_count": null,
      "outputs": []
    },
    {
      "cell_type": "code",
      "metadata": {
        "id": "aBFzlQGNWO7j",
        "colab_type": "code",
        "colab": {}
      },
      "source": [
        "all_data[all_data['pred_price'] == True].shape\n",
        "#all_reit.to_csv('dji_last_5_years_technical_indicators_7day_increase_10pcrise.csv')\n",
        "#!gsutil cp dji_last_5_years_technical_indicators_7day_increase_5pcrise.csv gs://mm_dataflow_bucket/inputs/"
      ],
      "execution_count": null,
      "outputs": []
    },
    {
      "cell_type": "markdown",
      "metadata": {
        "id": "l2O5tMe_cCEl",
        "colab_type": "text"
      },
      "source": [
        "<h3>Attepmting to find performance for sectors </h3>"
      ]
    },
    {
      "cell_type": "markdown",
      "metadata": {
        "id": "yn1JpvIScV14",
        "colab_type": "text"
      },
      "source": [
        "<h3> Fetching all sectors </h3>"
      ]
    },
    {
      "cell_type": "code",
      "metadata": {
        "id": "WK5H-_AQWOyF",
        "colab_type": "code",
        "colab": {}
      },
      "source": [
        "!mkdir -p data\n",
        "!gsutil cp gs://datascience-bucket-mm/all_sectors.csv data\n",
        "sct = pd.read_csv('data/all_sectors.csv')\n",
        "sct.rename({'Unnamed: 0' : 'ticker', 'Sector':'sector'}, axis=1, inplace=True)\n",
        "print(sct.shape)\n",
        "\n",
        "\n"
      ],
      "execution_count": null,
      "outputs": []
    },
    {
      "cell_type": "code",
      "metadata": {
        "id": "i4D1ufREc2x1",
        "colab_type": "code",
        "colab": {}
      },
      "source": [
        "def get_historical_price(ticker, busdays):\n",
        "  print('Find price for last {} days'.format(busdays))\n",
        "  end_date = date.today()\n",
        "  start_date = end_date - BDay(busdays)\n",
        "  historical_df =  get_prices(ticker, start_date, end_date)\n",
        "  start = historical_df[ticker].values[0]\n",
        "  end = historical_df[ticker].values[-1]\n",
        "  data = {}\n",
        "  data['ticker'] = ticker\n",
        "  data['start'] = start\n",
        "  data['end'] = end\n",
        "  data['performance'] \n",
        "  \n",
        "\n",
        "\n",
        "\n",
        "\n",
        "def get_prices_for_sector(all_sector_df, sector):\n",
        "  print('Find ticker for {}'.format(sector))\n",
        "  sector_df = all_sector_df[all_sector_df['sector'] == sector]\n",
        "  print('For {} we got shape {}'.format(sector, sector_df.shape))\n",
        "\n",
        "\n",
        "\n"
      ],
      "execution_count": null,
      "outputs": []
    },
    {
      "cell_type": "code",
      "metadata": {
        "id": "3cTg_1n_hjB0",
        "colab_type": "code",
        "colab": {}
      },
      "source": [
        "df = get_historical_price('AAPL', 20)\n",
        "df.info()\n"
      ],
      "execution_count": null,
      "outputs": []
    },
    {
      "cell_type": "code",
      "metadata": {
        "id": "l_ZJm7R7mnUY",
        "colab_type": "code",
        "colab": {}
      },
      "source": [
        "def company_stats(ticker):\n",
        "  base_url =  'https://financialmodelingprep.com/api/v3/company/profile/{ticker}'.format(ticker=ticker)\n",
        "  try:\n",
        "    data =  requests.get(base_url).json()['profile']\n",
        "    pdict = dict(price=data['price'], range=data['range'],\n",
        "                beta=data['beta'], industry=data['industry'], TICKER=ticker)\n",
        "    ratings = requests.get('https://financialmodelingprep.com/api/v3/company/rating/{}'.format(ticker)).json()\n",
        "    pdict['rating'] = ratings.get(\"rating\")['recommendation'] if ratings.get(\"rating\") else 'N/A'\n",
        "\n",
        "    metrics = requests.get('https://financialmodelingprep.com/api/v3/company/discounted-cash-flow/{}'.format(ticker)).json()\n",
        "    pdict['dcf'] = metrics.get('dcf') or 'N/A'\n",
        "  except Exception as  e:\n",
        "    pdict = dict(price='N/A', range='N/A',\n",
        "                beta='N/A', industry='N/A', TICKER=ticker)\n",
        "    \n",
        "\n",
        "  return pd.DataFrame([pdict])\n",
        "\n",
        "\n",
        "\n"
      ],
      "execution_count": null,
      "outputs": []
    },
    {
      "cell_type": "code",
      "metadata": {
        "id": "WDX-pmWNz6MU",
        "colab_type": "code",
        "colab": {}
      },
      "source": [
        "df = pd.read_csv('data/edgar_quarterly_run_withindustry.csv-00000-of-00001')"
      ],
      "execution_count": null,
      "outputs": []
    },
    {
      "cell_type": "code",
      "metadata": {
        "id": "NS9PhGkOEVrN",
        "colab_type": "code",
        "colab": {}
      },
      "source": [
        "df"
      ],
      "execution_count": null,
      "outputs": []
    },
    {
      "cell_type": "code",
      "metadata": {
        "id": "SsClQlgfdGkQ",
        "colab_type": "code",
        "colab": {}
      },
      "source": [
        "import requests\n",
        "from datetime import date\n",
        "def get_company_stats(tpl):\n",
        "    name, ticker, count = tpl\n",
        "    base_url = 'https://us-central1-datascience-projects.cloudfunctions.net/company-stats/{}'.format(ticker)\n",
        "    res_dict = requests.get(base_url).json()\n",
        "\n",
        "    mapped = dict((k.upper(),v) for k,v in res_dict.items())\n",
        "    upd = dict(COB=date.today().strftime('%Y-%m-%d'), CUSIP=name, TICKER=ticker,COUNT=count)\n",
        "    mapped.update(upd)\n",
        "\n",
        "    return(mapped)\n"
      ],
      "execution_count": null,
      "outputs": []
    },
    {
      "cell_type": "code",
      "metadata": {
        "id": "5LKiBjHvdN-Y",
        "colab_type": "code",
        "colab": {}
      },
      "source": [
        "get_company_stats(('NAME', 'BILI', 100))"
      ],
      "execution_count": null,
      "outputs": []
    },
    {
      "cell_type": "code",
      "metadata": {
        "id": "TbH23y9pDyFt",
        "colab_type": "code",
        "colab": {}
      },
      "source": [
        "import requests\n",
        "requests.get('https://us-central1-datascience-projects.cloudfunctions.net/future_earnings/AAPL')"
      ],
      "execution_count": null,
      "outputs": []
    },
    {
      "cell_type": "code",
      "metadata": {
        "id": "oOyxgXY8N0Sm",
        "colab_type": "code",
        "colab": {}
      },
      "source": [
        "from google.colab import auth\n",
        "auth.authenticate_user()"
      ],
      "execution_count": null,
      "outputs": []
    },
    {
      "cell_type": "code",
      "metadata": {
        "id": "UXeYwM98NoyN",
        "colab_type": "code",
        "colab": {}
      },
      "source": [
        "!mkdir -p data\n",
        "!gsutil cp gs://mm_dataflow_bucket/results-20200511-213128.csv data\n"
      ],
      "execution_count": null,
      "outputs": []
    },
    {
      "cell_type": "code",
      "metadata": {
        "id": "7U-rquiCReRS",
        "colab_type": "code",
        "colab": {}
      },
      "source": [
        "def compute_moving_averages(prices, day):\n",
        "  prices['moving_avg_{}'.format(day)] = prices['adjClose'].rolling(window=day).mean() \n",
        "  return prices\n",
        "\n",
        "def compute_simple_moving_average(prices):\n",
        "  prices['simple_moving_average'] = prices['adjClose'].mean()\n",
        "  return prices\n",
        "\n",
        "def compute_exp_moving_average(prices, day):\n",
        "  prices['exp_ma_{}'.format(day)] = prices.adjClose.ewm(span=day, adjust=False).mean()\n",
        "  return prices\n",
        "\n",
        "def compute_exp_moving_average_pandas(prices, day):\n",
        "  prices['exp_ma_{}'.format(day)] = prices.adjClose.ewm(span=day).mean()\n",
        "  return prices\n",
        "\n",
        "def compute_macd(prices):\n",
        "  prices['ema_26'] = prices.adjClose.ewm(span=26).mean()\n",
        "  prices['ema_12'] = prices.adjClose.ewm(span=12).mean()\n",
        "  prices['macd'] = (prices['ema_12'] - prices['ema_26'])\n",
        "  return prices\n",
        "\n",
        "def compute_true_range(prices):\n",
        "  prices['tr_1'] = prices['high'] - prices['low']\n",
        "  prices['tr_2'] = prices['high']- prices['adjClose'].shift(1)\n",
        "  prices['tr_3'] = prices['low'] - prices['adjClose'].shift(1)\n",
        "  prices['true_range'] = prices[['tr_1','tr_2','tr_3']].max(axis=1)\n",
        "  return prices.drop(['tr_1', 'tr_2', 'tr_3'], axis=1)\n",
        "\n",
        "def compute_atr(prices):\n",
        "  with_true_range = compute_true_range(prices)\n",
        "  with_true_range['atr'] = prices['true_range'].rolling(window=14).mean()\n",
        "  return with_true_range \n",
        "\n"
      ],
      "execution_count": null,
      "outputs": []
    },
    {
      "cell_type": "markdown",
      "metadata": {
        "id": "INACcOdwOBq_",
        "colab_type": "text"
      },
      "source": [
        "<h3> Creating functions for technical indicators </h3>\n",
        "Technical indicator to calculate(see sample https://medium.com/analytics-vidhya/stock-trend-prediction-with-technical-indicators-feature-engineering-and-python-code-1fa54d5806ba):\n",
        "<ul>\n",
        "   <li> Simple Moving Average </li>\n",
        "   <li> Exponential Moving Average(10,20,50,100,200) </li><\n",
        "   <li>ATR (typically derived from the 14-day moving average of a series of true range indicators) </li>\n",
        "   <li> Average Directional Index ( It is a combination of the negative and positive directional movements indicators computed over a period of n past days corresponding to the input window length (typically 14 days))</li>\n",
        "   <li>Commodity Channel Index (CCI)</li>\n",
        "   <li> Rate of Change  </li>\n",
        "   <li> Relative strength Index </li>\n",
        "   <li> William % R </li>\n",
        "   <li> Stochastic %K </li>\n",
        "</ul>   \n",
        "\n"
      ]
    },
    {
      "cell_type": "code",
      "metadata": {
        "id": "pR39_WusOFhc",
        "colab_type": "code",
        "colab": {}
      },
      "source": [
        "sample_dt = open('data/sentex_technical.txt', 'r').readlines()\n",
        "mapped = list(map(lambda ln: ln.split(','), sample_dt))\n",
        "#split_data = sample_dt.split('\\n')\n",
        "#date, closep, highp,lowp, openp, volume = np.loadtxt(split_data,\n",
        "#                                                     delimiter=',')\n",
        "mapped[0]\n",
        "\n",
        "def TR(d,c,h,l,o,yc):\n",
        "  ''' Calculate Directional Movement \n",
        "    :param d: date\n",
        "    :param c: today close\n",
        "    :param h: today high\n",
        "    :param l: today low\n",
        "    :param o: today open\n",
        "    :param yc: yesterdya close\n",
        "   '''\n",
        "  z = h - 1\n",
        "  y = abs(h - yc)\n",
        "  z = abs(l - yc)\n",
        "  if y <= x >= z:\n",
        "    TR = x\n",
        "  elif x <= y >=z:\n",
        "    TR = y\n",
        "  elif x <= z >= y:\n",
        "    TR = z\n",
        "    return d, Tr\n",
        "\n",
        "def DM(d,o,h,l,c,yo,yh,yl,yc):\n",
        "  ''' Calculate Directional Movement \n",
        "    :param d: date\n",
        "    :param o: today open\n",
        "    :param h: today high\n",
        "    :param l: today low\n",
        "    :param c: today close\n",
        "    :parma yo: yesterday open\n",
        "    :param yh: ysterday high\n",
        "    :param yl: yesterday low\n",
        "    :param yc: yesterdya close\n",
        "  \n",
        "  '''\n",
        "  moveUp = h - yh\n",
        "  moveDown = yl - l\n",
        "  if 0 < moveUp > moveDown:\n",
        "    PDM = moveUp\n",
        "  else:\n",
        "    PDM = 0\n",
        "\n",
        "  if 0 < moveDown > moveUP:\n",
        "    NDM = moveDown\n",
        "  else:\n",
        "    NDM = 0\n",
        "\n",
        "  return d, PDM, NDM\n",
        "\n",
        "\n",
        "def ADX():\n",
        "  PDI, NDI  = calcDI\n",
        "\n",
        "def ATR(prices):\n",
        "  '''\n",
        "     Calculate Averge True Range\n",
        "  '''\n",
        "  prices['ATR'] = prices['TR'].mean()\n",
        "  return prices\n",
        "  \n",
        "\n"
      ],
      "execution_count": null,
      "outputs": []
    },
    {
      "cell_type": "code",
      "metadata": {
        "id": "AncKAnsmDUmY",
        "colab_type": "code",
        "colab": {}
      },
      "source": [
        "def get_historical_prices(ticker, start_dt, end_dt):\n",
        "  start_dt_str = start_dt.strftime('%Y-%m-%d')\n",
        "  end_dt_str = end_dt.strftime('%Y-%m-%d')\n",
        "  base_request = 'https://financialmodelingprep.com/api/v3/historical-price-full/{ticker}?from={from_dt}&to={to_dt}'.format(ticker=ticker,\n",
        "                                                                                                                            from_dt=start_dt_str,\n",
        "                                                                                                                            to_dt=end_dt_str)\n",
        "  print('Calling URL:{}'.format(base_request))\n",
        "  all_dt =  requests.get(base_request).json().get('historical') or {}\n",
        "  df =  pd.DataFrame(all_dt)[['adjClose', 'date', 'high', 'low']]\n",
        "  df.set_index('date', inplace=True)\n",
        "  return df\n",
        "\n",
        "def get_today_and_yesterday(ticker, start_dt):\n",
        "  today = start_dt.strftime('%Y-%m-%d')\n",
        "  yday = (start_dt - BDay(1)).strftime('%Y-%m-%d')\n",
        "  base_request = 'https://financialmodelingprep.com/api/v3/historical-price-full/{ticker}?from={from_dt}&to={to_dt}'.format(ticker=ticker,\n",
        "                                                                                                                            from_dt=yday,\n",
        "                                                                                                                            to_dt=today)\n",
        "  all_dt =  requests.get(base_request).json().get('historical') or {}\n",
        "  y = all_dt[0]\n",
        "  t = all_dt[1]  # yo,yh,yl,yc\n",
        "  y_dict = dict(y_c=y['close'], y_h=y['high'],\n",
        "             y_low=y['low'], y_o=y['open'])\n",
        "  t_dict = dict(date=t['date'], t_c=t['close'], t_h=t['high'],\n",
        "                t_l=t['close'], t_o=t['open'],\n",
        "                ticker=ticker)\n",
        "  \n",
        "  y_dict.update(t_dict)\n",
        "  return pd.DataFrame([y_dict])\n"
      ],
      "execution_count": null,
      "outputs": []
    },
    {
      "cell_type": "code",
      "metadata": {
        "id": "pbOxtXJzj4dM",
        "colab_type": "code",
        "colab": {}
      },
      "source": [
        "get_today_and_yesterday('AMZN', date(2019,5,6))"
      ],
      "execution_count": null,
      "outputs": []
    },
    {
      "cell_type": "code",
      "metadata": {
        "id": "kIQVc5H8FgjL",
        "colab_type": "code",
        "colab": {}
      },
      "source": [
        "end = date.today()\n",
        "start = end - BDay(300)\n",
        "amzn = get_historical_prices('AMZN', start, end)\n",
        "amzn.head(10)"
      ],
      "execution_count": null,
      "outputs": []
    },
    {
      "cell_type": "code",
      "metadata": {
        "id": "pm0crU4Vb5GF",
        "colab_type": "code",
        "colab": {}
      },
      "source": [
        "with_50 = compute_moving_averages(amzn, 50)\n",
        "with_200 = compute_moving_averages(with_50, 200)\n",
        "with_ema_12 = compute_exp_moving_average(with_200, 12)\n",
        "with_ema_26 = compute_exp_moving_average(with_ema_12, 26)\n",
        "with_macd = compute_macd(with_ema_26)\n",
        "with_atr = compute_true_range(with_macd)\n",
        "#with_macd.columns\n"
      ],
      "execution_count": null,
      "outputs": []
    },
    {
      "cell_type": "code",
      "metadata": {
        "id": "oBeUrKJOr07l",
        "colab_type": "code",
        "colab": {}
      },
      "source": [
        "prices = with_macd\n",
        "prices['true_range'] = max([(prices['high'] - prices['low']), abs(prices['high']- prices['adjClose'].shift(1)), abs(prices['low'] - prices['adjClose'].shift(1))])"
      ],
      "execution_count": null,
      "outputs": []
    },
    {
      "cell_type": "code",
      "metadata": {
        "id": "EqWA2ZbhGLGE",
        "colab_type": "code",
        "colab": {}
      },
      "source": [
        "amzn['moving_avg_50'] = amzn.adjClose.ewm(span=50, adjust=False).mean()\n",
        "amzn['moving_avg_200'] = amzn.adjClose.ewm(span=200, adjust=False).mean()\n",
        "\n",
        "#compute_moving_averages(amzn, 30)"
      ],
      "execution_count": null,
      "outputs": []
    },
    {
      "cell_type": "code",
      "metadata": {
        "id": "Q7tFCnEgG9vw",
        "colab_type": "code",
        "colab": {}
      },
      "source": [
        "amzn['crossover'] = amzn['moving_avg_50'] > amzn['moving_avg_200']   \n",
        "amzn['lookahead'] = amzn['adjClose'].shift(-5)\n",
        "amzn[ (amzn['crossover'] == True) & (amzn['lookahead'] > amzn['adjClose'])].shape\n"
      ],
      "execution_count": null,
      "outputs": []
    },
    {
      "cell_type": "code",
      "metadata": {
        "id": "7jUW9XkfG_rL",
        "colab_type": "code",
        "colab": {}
      },
      "source": [
        "df = pd.read_csv('data/results-20200511-213128.csv')\n",
        "df.shape"
      ],
      "execution_count": null,
      "outputs": []
    },
    {
      "cell_type": "code",
      "metadata": {
        "id": "eyDYkZMKghm9",
        "colab_type": "code",
        "colab": {}
      },
      "source": [
        "def  get_price_targets(ticker):\n",
        "  base_url = 'https://cloud.iexapis.com/stable/stock/{symbol}/price-target?token={token}'.format(symbol=ticker, )\n",
        "  try:\n",
        "    res = requests.get(base_url).json()\n",
        "    res['TICKER'] = ticker\n",
        "  except Exception as e:\n",
        "    res = {'TICKER': ticker,\n",
        "          'currency': 'USD',\n",
        "          'numberOfAnalysts': 0,\n",
        "          'priceTargetAverage': 0,\n",
        "          'priceTargetHigh': 0,\n",
        "          'priceTargetLow': 0,\n",
        "          'symbol': ticker,\n",
        "          'updatedDate': 'N/A'}\n",
        "  return pd.DataFrame([res])\n"
      ],
      "execution_count": null,
      "outputs": []
    },
    {
      "cell_type": "code",
      "metadata": {
        "id": "VwS3t829iiGV",
        "colab_type": "code",
        "colab": {}
      },
      "source": [
        "for ticker in ['ATVI','TWTR','ROK','DPZ']:\n",
        "  get_price_targets(ticker)"
      ],
      "execution_count": null,
      "outputs": []
    },
    {
      "cell_type": "code",
      "metadata": {
        "id": "tNs8uqLAc4jN",
        "colab_type": "code",
        "colab": {}
      },
      "source": [
        "print('current sjhape:{}'.format(df.shape))\n",
        "filtered_df = df[df['COUNT'] > 100]\n",
        "print('filtered sjhape:{}'.format(filtered_df.shape))\n",
        "\n",
        "all_tickers = filtered_df['TICKER'].values.tolist()\n"
      ],
      "execution_count": null,
      "outputs": []
    },
    {
      "cell_type": "code",
      "metadata": {
        "id": "e8mDwhOpdIlf",
        "colab_type": "code",
        "colab": {}
      },
      "source": [
        "dfs = pd.concat([company_stats(ticker) for ticker in all_tickers])\n",
        "#estimates = pd.concat([get_price_targets(ticker) for ticker in all_tickers])"
      ],
      "execution_count": null,
      "outputs": []
    },
    {
      "cell_type": "code",
      "metadata": {
        "id": "Kv5P8xXijip6",
        "colab_type": "code",
        "colab": {}
      },
      "source": [
        "estimates = pd.concat([get_price_targets(ticker) for ticker in all_tickers])\n",
        "print('dfs:{}, est:{}'.format(filtered_df.shape, estimates.shape))\n",
        "dfs.columns"
      ],
      "execution_count": null,
      "outputs": []
    },
    {
      "cell_type": "code",
      "metadata": {
        "id": "gYQDbudNd13j",
        "colab_type": "code",
        "colab": {}
      },
      "source": [
        "merged = pd.merge(dfs, estimates, on='TICKER')\n",
        "print(merged.shape)"
      ],
      "execution_count": null,
      "outputs": []
    },
    {
      "cell_type": "code",
      "metadata": {
        "id": "_XJqeupAOmbH",
        "colab_type": "code",
        "colab": {}
      },
      "source": [
        ""
      ],
      "execution_count": null,
      "outputs": []
    },
    {
      "cell_type": "code",
      "metadata": {
        "id": "1Pbjq7l9e3yR",
        "colab_type": "code",
        "colab": {}
      },
      "source": [
        "all_dt = pd.merge(dfs, df, on='TICKER', how='inner')\n",
        "all_dt.shape"
      ],
      "execution_count": null,
      "outputs": []
    },
    {
      "cell_type": "code",
      "metadata": {
        "id": "sXxEqErVlxRT",
        "colab_type": "code",
        "colab": {}
      },
      "source": [
        "from datetime import date\n",
        "def get_price_drop(ticker):\n",
        "  base_url = 'https://financialmodelingprep.com/api/v3/historical-price-full/{}?from=2020-03-01&to={}'.format(ticker, date.today().strftime('%Y-%m-%d'))\n",
        "  data = requests.get(base_url).json()\n",
        "  if data.get('historical'):\n",
        "    first = data['historical'][0]['close']\n",
        "    last = data['historical'][-1]['close']\n",
        "    return pd.DataFrame([dict(TICKER=ticker, Diff_from_March=(last - first))])\n",
        "  else:\n",
        "    return pd.DataFrame([dict(TICKER=ticker, Diff_from_march=0)])\n"
      ],
      "execution_count": null,
      "outputs": []
    },
    {
      "cell_type": "code",
      "metadata": {
        "id": "dR8_Ir1gmnbF",
        "colab_type": "code",
        "colab": {}
      },
      "source": [
        "pchanges = pd.concat([get_price_drop(ticker)  for ticker in all_tickers])\n",
        "df_changes = pd.merge(all_dt,pchanges, on='TICKER')\n"
      ],
      "execution_count": null,
      "outputs": []
    },
    {
      "cell_type": "code",
      "metadata": {
        "id": "XFj4uI-OkxUz",
        "colab_type": "code",
        "colab": {}
      },
      "source": [
        "dfs.to_csv('data/institutional_hol._14may.csv')\n",
        "!gsutil cp data/institutional_hol._14may.csv gs://mm_dataflow_bucket/outputs"
      ],
      "execution_count": null,
      "outputs": []
    },
    {
      "cell_type": "code",
      "metadata": {
        "id": "BJGqmrFblHFY",
        "colab_type": "code",
        "colab": {}
      },
      "source": [
        ""
      ],
      "execution_count": null,
      "outputs": []
    },
    {
      "cell_type": "markdown",
      "metadata": {
        "id": "tYgsSZ1kY38L",
        "colab_type": "text"
      },
      "source": [
        "<h3> Attempting to find cyclical stock </h3>"
      ]
    },
    {
      "cell_type": "code",
      "metadata": {
        "id": "u3Y-aHv2Y7XM",
        "colab_type": "code",
        "colab": {}
      },
      "source": [
        "def get_historical_prices_for_ticker_cyclical(ticker):\n",
        "  print('Fetching data for:{}'.format(ticker))\n",
        "  end_date = date.today()\n",
        "  start_date = end_date - BDay(240)\n",
        "  return get_prices(ticker, start_date, end_date)\n"
      ],
      "execution_count": null,
      "outputs": []
    },
    {
      "cell_type": "code",
      "metadata": {
        "id": "9o8JfLwzZAQh",
        "colab_type": "code",
        "colab": {}
      },
      "source": [
        "df = get_historical_prices_for_ticker_cyclical('SLB')\n",
        "mx = df.Close.max()\n",
        "mn = df.Close.min()"
      ],
      "execution_count": null,
      "outputs": []
    },
    {
      "cell_type": "code",
      "metadata": {
        "id": "ZwJQyDnyZRKj",
        "colab_type": "code",
        "colab": {}
      },
      "source": [
        "df['near_max'] = df.Close > mx * .95\n",
        "df['near_min'] = df.Close < mn * 1.05\n",
        "\n",
        "\n",
        "print(df[df['near_max'] == True].shape)\n",
        "print(df[df['near_min'] == True].shape)"
      ],
      "execution_count": null,
      "outputs": []
    },
    {
      "cell_type": "code",
      "metadata": {
        "id": "iAzfSK7bal4X",
        "colab_type": "code",
        "colab": {}
      },
      "source": [
        ""
      ],
      "execution_count": null,
      "outputs": []
    }
  ]
}